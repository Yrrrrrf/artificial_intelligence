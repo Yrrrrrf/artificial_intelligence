{
 "cells": [
  {
   "attachments": {},
   "cell_type": "markdown",
   "metadata": {},
   "source": [
    "# [Knapsack Problem](https://en.wikipedia.org/wiki/Knapsack_problem)\n",
    "\n",
    "Is a problem in combinatorial optimization.\n",
    "\n",
    "Given a set of items, each with a weight and a value, determine the number of each item to include in a collection so that the total weight is less than or equal to a given limit and the total value is as large as possible.\n",
    "\n",
    "It derives its name from the problem faced by someone who is constrained by a fixed-size knapsack and must fill it with the most valuable items."
   ]
  },
  {
   "cell_type": "code",
   "execution_count": 1,
   "metadata": {},
   "outputs": [],
   "source": [
    "import numpy as np  # import numpy\n",
    "import EasyGA"
   ]
  },
  {
   "attachments": {},
   "cell_type": "markdown",
   "metadata": {},
   "source": [
    "Set the main parameters of the problem:"
   ]
  },
  {
   "cell_type": "code",
   "execution_count": 5,
   "metadata": {},
   "outputs": [
    {
     "ename": "OperationalError",
     "evalue": "database is locked",
     "output_type": "error",
     "traceback": [
      "\u001b[1;31m---------------------------------------------------------------------------\u001b[0m",
      "\u001b[1;31mOperationalError\u001b[0m                          Traceback (most recent call last)",
      "\u001b[1;32m~\\AppData\\Local\\Temp\\ipykernel_25032\\1771194768.py\u001b[0m in \u001b[0;36m<module>\u001b[1;34m\u001b[0m\n\u001b[0;32m     69\u001b[0m \u001b[1;31m# ga.fitness_function_impl = password_fitness # type: ignore\u001b[0m\u001b[1;33m\u001b[0m\u001b[1;33m\u001b[0m\u001b[1;33m\u001b[0m\u001b[0m\n\u001b[0;32m     70\u001b[0m \u001b[1;33m\u001b[0m\u001b[0m\n\u001b[1;32m---> 71\u001b[1;33m \u001b[0mga\u001b[0m\u001b[1;33m.\u001b[0m\u001b[0mevolve\u001b[0m\u001b[1;33m(\u001b[0m\u001b[1;33m)\u001b[0m\u001b[1;33m\u001b[0m\u001b[1;33m\u001b[0m\u001b[0m\n\u001b[0m\u001b[0;32m     72\u001b[0m \u001b[1;33m\u001b[0m\u001b[0m\n\u001b[0;32m     73\u001b[0m \u001b[1;31m# # Print out the current generation and the population\u001b[0m\u001b[1;33m\u001b[0m\u001b[1;33m\u001b[0m\u001b[1;33m\u001b[0m\u001b[0m\n",
      "\u001b[1;32mc:\\Users\\OutwardFire\\Documents\\uaemex\\artificial_intelligence\\.venv\\lib\\site-packages\\EasyGA\\EasyGA.py\u001b[0m in \u001b[0;36mevolve\u001b[1;34m(self, number_of_generations, consider_termination)\u001b[0m\n\u001b[0;32m     78\u001b[0m \u001b[1;33m\u001b[0m\u001b[0m\n\u001b[0;32m     79\u001b[0m                 \u001b[1;31m# Add the current configuration to the config table\u001b[0m\u001b[1;33m\u001b[0m\u001b[1;33m\u001b[0m\u001b[1;33m\u001b[0m\u001b[0m\n\u001b[1;32m---> 80\u001b[1;33m                 \u001b[0mself\u001b[0m\u001b[1;33m.\u001b[0m\u001b[0mdatabase\u001b[0m\u001b[1;33m.\u001b[0m\u001b[0minsert_config\u001b[0m\u001b[1;33m(\u001b[0m\u001b[0mself\u001b[0m\u001b[1;33m)\u001b[0m\u001b[1;33m\u001b[0m\u001b[1;33m\u001b[0m\u001b[0m\n\u001b[0m\u001b[0;32m     81\u001b[0m \u001b[1;33m\u001b[0m\u001b[0m\n\u001b[0;32m     82\u001b[0m             \u001b[1;31m# Otherwise evolve the population.\u001b[0m\u001b[1;33m\u001b[0m\u001b[1;33m\u001b[0m\u001b[1;33m\u001b[0m\u001b[0m\n",
      "\u001b[1;32mc:\\Users\\OutwardFire\\Documents\\uaemex\\artificial_intelligence\\.venv\\lib\\site-packages\\EasyGA\\database\\sql_database.py\u001b[0m in \u001b[0;36minsert_config\u001b[1;34m(self, ga)\u001b[0m\n\u001b[0;32m     80\u001b[0m                     self.conn.execute(f\"\"\"\n\u001b[0;32m     81\u001b[0m                     \u001b[0mINSERT\u001b[0m \u001b[0mINTO\u001b[0m \u001b[0mconfig\u001b[0m\u001b[1;33m(\u001b[0m\u001b[0mconfig_id\u001b[0m\u001b[1;33m,\u001b[0m \u001b[0mattribute_name\u001b[0m\u001b[1;33m,\u001b[0m \u001b[0mattribute_value\u001b[0m\u001b[1;33m)\u001b[0m\u001b[1;33m\u001b[0m\u001b[1;33m\u001b[0m\u001b[0m\n\u001b[1;32m---> 82\u001b[1;33m                     VALUES ('{self.config_id}', '{name}','{value}');\"\"\")\n\u001b[0m\u001b[0;32m     83\u001b[0m \u001b[1;33m\u001b[0m\u001b[0m\n\u001b[0;32m     84\u001b[0m \u001b[1;33m\u001b[0m\u001b[0m\n",
      "\u001b[1;31mOperationalError\u001b[0m: database is locked"
     ]
    }
   ],
   "source": [
    "num_generations: int = 100  # number of generations\n",
    "solves_per_population: int = 4  # number of solutions in each population\n",
    "\n",
    "mutation_percent_genes = 5  # percentage of genes to mutate\n",
    "crossover_percent_genes: int = 50  # percentage of genes to crossover\n",
    "\n",
    "#? Data ---------------------------------------------------------------------------------------\n",
    "\n",
    "# where x is a vector of binary values (0 or 1)\n",
    "# Maximize-> Z = sum(values * x)\n",
    "# subject to sum(weights * x) <= capacity\n",
    "\n",
    "\n",
    "# create 2 random lists of integers\n",
    "n_objects: int = 12\n",
    "\n",
    "# np.random.seed(42)  # set a sed to reproduce results\n",
    "# values: np.ndarray = np.random.randint(1, 100, n_objects)  # values of the objects\n",
    "# weights: np.ndarray  = np.random.randint(1, 10, n_objects)  # weights of the objects\n",
    "bag_capacity: int = 50  # capacity of the bag\n",
    "\n",
    "\n",
    "# just for testing\n",
    "values: np.ndarray = np.array([1, 4, 5, 7, 9, 10, 11, 12, 13, 14, 15, 16])\n",
    "weights: np.ndarray = np.array([1, 2, 3, 4, 5, 6, 7, 8, 9, 10 ,11, 12])\n",
    "\n",
    "# So any solution (a set of binary values) that has a sum of weights greater than the capacity is not valid.\n",
    "# The fitness function should return a low value for such solutions.\n",
    "\n",
    "\n",
    "def fitness_function(chromosome):\n",
    "    \"\"\"\n",
    "    This function calculates the fitness value of a chromosome.\n",
    "    The fitness function calculates the sum of products between each input and its corresponding weight.\n",
    "    If the sum of the products is greater than the bag capacity, then the fitness value is set to zero.\n",
    "    \"\"\"\n",
    "    print(f\"Chromosome = {chromosome} {type(chromosome)}\")\n",
    "    # get all the values in the chromosome\n",
    "    chromosome = chromosome.astype(int)\n",
    "    print(f\"Chromosome = {chromosome} {type(chromosome)}\")\n",
    "\n",
    "\n",
    "\n",
    "    # return np.sum(chromosome * values) if np.sum(chromosome * weights) <= bag_capacity else 0\n",
    "\n",
    "\n",
    "\n",
    "\n",
    "\n",
    "\n",
    "\n",
    "\n",
    "\n",
    "\n",
    "\n",
    "# Create the Genetic algorithm\n",
    "ga = EasyGA.GA()\n",
    "\n",
    "# Basic Attributes\n",
    "ga.chromosome_length = n_objects  # set the number of genes in the chromosome\n",
    "ga.fitness_goal = 0  # set the fitness goal\n",
    "\n",
    "# Size Attributes\n",
    "ga.population_size = solves_per_population  # set the population size\n",
    "ga.generation_goal = num_generations  # set the number of generations\n",
    "\n",
    "ga.fitness_function_impl = fitness_function  # set the fitness function\n",
    "\n",
    "# ga.fitness_function_impl = password_fitness # type: ignore\n",
    "\n",
    "ga.evolve()\n",
    "\n",
    "# # Print out the current generation and the population\n",
    "ga.print_generation()\n",
    "ga.print_population()\n",
    "\n",
    "# Show graph of progress\n",
    "ga.graph.highest_value_chromosome()  # show the highest value chromosome\n",
    "ga.graph.show()  # show the graph"
   ]
  },
  {
   "cell_type": "markdown",
   "metadata": {},
   "source": []
  },
  {
   "cell_type": "code",
   "execution_count": null,
   "metadata": {},
   "outputs": [
    {
     "name": "stdout",
     "output_type": "stream",
     "text": [
      "Current Generation \t: 141\n",
      "Chromosome - 0 [D][S][A][D][S][A][D] / Fitness = 7\n",
      "Chromosome - 1 [D][S][A][D][F][A][D] / Fitness = 6\n",
      "Chromosome - 2 [D][S][A][D][F][A][D] / Fitness = 6\n",
      "Chromosome - 3 [D][S][A][D][F][A][D] / Fitness = 6\n",
      "Chromosome - 4 [D][S][A][D][F][A][D] / Fitness = 6\n",
      "Chromosome - 5 [D][S][A][D][F][A][D] / Fitness = 6\n",
      "Chromosome - 6 [D][S][A][D][C][A][D] / Fitness = 6\n",
      "Chromosome - 7 [D][S][A][D][V][A][D] / Fitness = 6\n",
      "Chromosome - 8 [D][S][A][D][M][A][D] / Fitness = 6\n",
      "Chromosome - 9 [D][S][A][D][F][A][D] / Fitness = 6\n",
      "Chromosome - 10 [D][S][A][D][F][A][D] / Fitness = 6\n",
      "Chromosome - 11 [D][S][A][D][F][A][D] / Fitness = 6\n",
      "Chromosome - 12 [D][S][A][D][w][A][D] / Fitness = 6\n",
      "Chromosome - 13 [D][S][A][D][n][A][D] / Fitness = 6\n",
      "Chromosome - 14 [D][S][A][D][F][A][D] / Fitness = 6\n",
      "Chromosome - 15 [D][S][A][D][F][A][D] / Fitness = 6\n",
      "Chromosome - 16 [D][S][A][D][F][A][D] / Fitness = 6\n",
      "Chromosome - 17 [D][S][A][D][F][A][D] / Fitness = 6\n",
      "Chromosome - 18 [D][S][A][D][F][A][D] / Fitness = 6\n",
      "Chromosome - 19 [D][S][A][D][Y][A][D] / Fitness = 6\n",
      "Chromosome - 20 [D][S][A][D][G][A][D] / Fitness = 6\n",
      "Chromosome - 21 [D][S][A][D][C][A][D] / Fitness = 6\n",
      "Chromosome - 22 [D][S][A][D][F][A][D] / Fitness = 6\n",
      "Chromosome - 23 [D][S][A][D][s][A][D] / Fitness = 6\n",
      "Chromosome - 24 [D][S][A][D][F][A][D] / Fitness = 6\n",
      "Chromosome - 25 [D][S][A][D][F][A][D] / Fitness = 6\n",
      "Chromosome - 26 [D][S][A][D][ ][A][D] / Fitness = 6\n",
      "Chromosome - 27 [D][S][A][D][F][A][D] / Fitness = 6\n",
      "Chromosome - 28 [D][S][A][D][F][A][D] / Fitness = 6\n",
      "Chromosome - 29 [D][S][A][D][F][A][D] / Fitness = 6\n",
      "Chromosome - 30 [D][S][A][D][F][A][D] / Fitness = 6\n",
      "Chromosome - 31 [D][S][A][D][o][A][D] / Fitness = 6\n",
      "Chromosome - 32 [D][S][A][D][F][A][D] / Fitness = 6\n",
      "Chromosome - 33 [D][S][A][D][x][A][D] / Fitness = 6\n",
      "Chromosome - 34 [D][S][A][D][F][A][D] / Fitness = 6\n",
      "Chromosome - 35 [D][S][A][D][F][A][D] / Fitness = 6\n",
      "Chromosome - 36 [D][S][A][D][F][A][D] / Fitness = 6\n",
      "Chromosome - 37 [D][S][A][D][F][A][D] / Fitness = 6\n",
      "Chromosome - 38 [D][S][A][D][F][A][D] / Fitness = 6\n",
      "Chromosome - 39 [D][S][A][D][F][A][D] / Fitness = 6\n",
      "Chromosome - 40 [D][S][A][D][F][A][D] / Fitness = 6\n",
      "Chromosome - 41 [D][S][A][D][F][A][D] / Fitness = 6\n",
      "Chromosome - 42 [D][S][A][D][F][r][D] / Fitness = 5\n",
      "Chromosome - 43 [Z][S][A][D][C][A][D] / Fitness = 5\n",
      "Chromosome - 44 [D][S][A][S][F][A][D] / Fitness = 5\n",
      "Chromosome - 45 [D][S][g][D][V][A][D] / Fitness = 5\n",
      "Chromosome - 46 [D][S][A][D][F][t][D] / Fitness = 5\n",
      "Chromosome - 47 [D][T][A][D][F][A][D] / Fitness = 5\n",
      "Chromosome - 48 [F][S][A][D][F][A][D] / Fitness = 5\n",
      "Chromosome - 49 [F][S][A][D][F][t][D] / Fitness = 4\n",
      "\n"
     ]
    },
    {
     "data": {
      "image/png": "[encoded data removed]",
      "text/plain": [
       "<Figure size 640x480 with 1 Axes>"
      ]
     },
     "metadata": {},
     "output_type": "display_data"
    }
   ],
   "source": [
    "import EasyGA\n",
    "import random\n",
    "\n",
    "ga = EasyGA.GA()\n",
    "\n",
    "word = input(\"Please enter a word: \\n\")\n",
    "\n",
    "# Basic Attributes\n",
    "ga.chromosome_length = len(word)\n",
    "ga.fitness_goal = len(word)\n",
    "\n",
    "# Size Attributes\n",
    "ga.population_size = 50\n",
    "ga.generation_goal = 10000\n",
    "\n",
    "# User definded fitness\n",
    "def password_fitness(chromosome):\n",
    "\n",
    "    return sum(1 for gene, letter\n",
    "        in zip(chromosome, word)\n",
    "        if gene.value == letter\n",
    "    )\n",
    "\n",
    "ga.fitness_function_impl = password_fitness\n",
    "\n",
    "# What the genes will look like.\n",
    "ga.gene_impl = lambda: random.choice([\"A\",\"a\",\"B\",\"b\",\"C\",\"c\",\"D\",\"d\",\"E\",\"e\",\"F\",\"f\",\"G\",\"g\",\"H\",\"h\",\"I\",\"i\",\"J\",\"j\",\"K\",\"k\",\"L\",\"l\",\"M\",\"m\",\"N\",\"n\",\"O\",\"o\",\"P\",\"p\",\"Q\",\"q\",\"R\",\"r\",\"S\",\"s\",\"T\",\"t\",\"U\",\"u\",\"V\",\"v\",\"W\",\"w\",\"X\",\"x\",\"Y\",\"y\",\"Z\",\"z\",\" \"])\n",
    "\n",
    "# Evolve the gentic algorithm\n",
    "ga.evolve()\n",
    "\n",
    "# Print out the current generation and the population\n",
    "ga.print_generation()\n",
    "ga.print_population()\n",
    "\n",
    "# Show graph of progress\n",
    "ga.graph.highest_value_chromosome()\n",
    "ga.graph.show()"
   ]
  },
  {
   "attachments": {},
   "cell_type": "markdown",
   "metadata": {},
   "source": [
    "## References\n",
    "- [Knapsack Problem](https://en.wikipedia.org/wiki/Knapsack_problem)\n",
    "- [EasyGA BLOG](https://medium.com/analytics-vidhya/easyga-genetic-algorithms-made-easy-genetic-algorithm-in-5-lines-of-python-seriously-5-lines-a4da7d8ae85a)"
   ]
  }
 ],
 "metadata": {
  "kernelspec": {
   "display_name": ".venv",
   "language": "python",
   "name": "python3"
  },
  "language_info": {
   "codemirror_mode": {
    "name": "ipython",
    "version": 3
   },
   "file_extension": ".py",
   "mimetype": "text/x-python",
   "name": "python",
   "nbconvert_exporter": "python",
   "pygments_lexer": "ipython3",
   "version": "3.7.9"
  },
  "orig_nbformat": 4
 },
 "nbformat": 4,
 "nbformat_minor": 2
}
